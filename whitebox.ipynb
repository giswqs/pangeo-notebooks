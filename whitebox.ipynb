{
 "cells": [
  {
   "cell_type": "code",
   "execution_count": 7,
   "metadata": {},
   "outputs": [
    {
     "name": "stdout",
     "output_type": "stream",
     "text": [
      "Collecting whitebox\n",
      "  Using cached https://files.pythonhosted.org/packages/7e/cd/86ffc6e98a69d22dee342c4237e3b8bbb89b0e39bf6a936eae1ef114652d/whitebox-0.3.0-py2.py3-none-any.whl\n",
      "Requirement already satisfied: Click>=6.0 in /opt/conda/lib/python3.6/site-packages (from whitebox) (6.7)\n",
      "Installing collected packages: whitebox\n",
      "Successfully installed whitebox-0.3.0\n",
      "\u001b[33mYou are using pip version 18.0, however version 18.1 is available.\n",
      "You should consider upgrading via the 'pip install --upgrade pip' command.\u001b[0m\n"
     ]
    }
   ],
   "source": [
    "!pip install whitebox"
   ]
  },
  {
   "cell_type": "code",
   "execution_count": 8,
   "metadata": {},
   "outputs": [
    {
     "name": "stdout",
     "output_type": "stream",
     "text": [
      "whitebox-tools v0.11.0 by Dr. John B. Lindsay (c) 2017-2018\n",
      "\n",
      "whitebox-tools Help\n",
      "\n",
      "The following commands are recognized:\n",
      "--cd, --wd       Changes the working directory; used in conjunction with --run flag.\n",
      "-h, --help       Prints help information.\n",
      "-l, --license    Prints the whitebox-tools license.\n",
      "--listtools      Lists all available tools. Keywords may also be used, --listtools slope.\n",
      "-r, --run        Runs a tool; used in conjuction with --wd flag; -r=\"LidarInfo\".\n",
      "--toolbox        Prints the toolbox associated with a tool; --toolbox=Slope.\n",
      "--toolhelp       Prints the help associated with a tool; --toolhelp=\"LidarInfo\".\n",
      "--toolparameters Prints the parameters (in json form) for a specific tool; --toolparameters=\"LidarInfo\".\n",
      "-v               Verbose mode. Without this flag, tool outputs will not be printed.\n",
      "--viewcode       Opens the source code of a tool in a web browser; --viewcode=\"LidarInfo\".\n",
      "--version        Prints the version information.\n",
      "\n",
      "Example Usage:\n",
      ">> ./whitebox-tools -r=lidar_info --cd=\"/path/to/data/\" -i=input.las --vlr --geokeys\n",
      "\n",
      "\n",
      "Calculating normal vectors: 0.002565468S\n",
      "Smoothing normal vectors: 0.042411453S\n",
      "Updating elevations...\n",
      "Iteration 1 of 5...\n",
      "Iteration 2 of 5...\n",
      "Iteration 3 of 5...\n",
      "Iteration 4 of 5...\n",
      "Iteration 5 of 5...\n"
     ]
    },
    {
     "data": {
      "text/plain": [
       "0"
      ]
     },
     "execution_count": 8,
     "metadata": {},
     "output_type": "execute_result"
    }
   ],
   "source": [
    "import os\n",
    "import pkg_resources\n",
    "import whitebox\n",
    "\n",
    "wbt = whitebox.WhiteboxTools()\n",
    "print(wbt.version())\n",
    "print(wbt.help())\n",
    "\n",
    "# identify the sample data directory of the package\n",
    "data_dir = os.path.dirname(pkg_resources.resource_filename(\"whitebox\", 'testdata/'))\n",
    "\n",
    "wbt.set_working_dir(data_dir)\n",
    "wbt.verbose = False\n",
    "wbt.feature_preserving_denoise(\"DEM.tif\", \"smoothed.tif\", filter=9)\n",
    "wbt.breach_depressions(\"smoothed.tif\", \"breached.tif\")\n",
    "wbt.d_inf_flow_accumulation(\"breached.tif\", \"flow_accum.tif\")"
   ]
  },
  {
   "cell_type": "code",
   "execution_count": null,
   "metadata": {},
   "outputs": [],
   "source": []
  }
 ],
 "metadata": {
  "kernelspec": {
   "display_name": "Python [conda env:py36]",
   "language": "python",
   "name": "conda-env-py36-py"
  },
  "language_info": {
   "codemirror_mode": {
    "name": "ipython",
    "version": 3
   },
   "file_extension": ".py",
   "mimetype": "text/x-python",
   "name": "python",
   "nbconvert_exporter": "python",
   "pygments_lexer": "ipython3",
   "version": "3.6.6"
  }
 },
 "nbformat": 4,
 "nbformat_minor": 2
}
